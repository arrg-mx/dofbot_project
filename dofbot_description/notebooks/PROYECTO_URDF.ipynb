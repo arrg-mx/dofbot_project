{
 "cells": [
  {
   "cell_type": "markdown",
   "id": "af7c4655-34d7-4fba-a898-9f6ec393f8b7",
   "metadata": {},
   "source": [
    "# Proyecto DOFBOT-URDF"
   ]
  },
  {
   "cell_type": "markdown",
   "id": "75096268-ddba-4d31-a0e0-1c504918c47d",
   "metadata": {},
   "source": [
    "| Código | Description |\n",
    "| ------:| ----------- |\n",
    "| ***Asignatura*** | Código del Trabajo o Número de Tarea | \n",
    "| **Robotica-2022-I**  | Proyecto **Dofbot** |"
   ]
  },
  {
   "cell_type": "markdown",
   "id": "24861086-c3c7-4bf8-8695-4e1050c6d719",
   "metadata": {},
   "source": [
    "## Contenido\n",
    "\n",
    "- [Objetivo](#objetivo)\n",
    "- [Desarrollo](#desarrollo)\n",
    "- [Conclusiones](#conclusiones)\n",
    "- [Autor](#autor)\n",
    "- [Referencias](#referencias)\n"
   ]
  },
  {
   "cell_type": "markdown",
   "id": "a389d289-6c41-423b-a7fb-1fb0aa081f1c",
   "metadata": {},
   "source": [
    "## Objetivo\n",
    "Desarrollar e implementar un banco de pruebas virtual y físico de un robot Dofbot para la realización de prácticas y pruebas experimentales en la Facultad de Ingeniería de la UNAM."
   ]
  },
  {
   "cell_type": "markdown",
   "id": "b7950d82-26be-4ff8-baa9-a5de9effeb69",
   "metadata": {},
   "source": [
    "## Desarrollo\n",
    "\n",
    "- El desarrollo de esta parte del proyecto la dividimmos en dos partes, la primera parte es la descripción del robot sin un gripper funcional, la segunda parte consiste en las descripcion de este mismo pero donde el gripper ya es funcional"
   ]
  },
  {
   "cell_type": "markdown",
   "id": "5ee2ba5d-49fc-440f-9dbe-fc2d563bf078",
   "metadata": {},
   "source": [
    "### GRIPPER NO FUNCIONAL \n",
    "\n"
   ]
  },
  {
   "cell_type": "markdown",
   "id": "8d901f40-48a4-4184-bdef-d02a5dc2d270",
   "metadata": {},
   "source": [
    "Se presenta la simulacion en rviz del robot, donde el gripper es funcional\n",
    "\n",
    "\n",
    "[![DOfbotsingripper](https://img.youtube.com/vi/jn__8gIlja4/0.jpg)](https://youtu.be/jn__8gIlja4)"
   ]
  },
  {
   "cell_type": "markdown",
   "id": "dd36ac5c-1b9b-4d12-9ffc-f1f91984838a",
   "metadata": {},
   "source": [
    "### GRIPPER FUNCIONAL"
   ]
  },
  {
   "cell_type": "markdown",
   "id": "bc476568-e77f-4a6a-8a0a-688e9fd7e6f6",
   "metadata": {},
   "source": [
    "Se presenta la simulacion en rviz del robot, donde el gripper es funcional\n",
    "\n",
    "[![DOfbotsingripper](https://img.youtube.com/vi/rPlLcbW8IEA/0.jpg)](https://youtu.be/rPlLcbW8IEA)"
   ]
  },
  {
   "cell_type": "markdown",
   "id": "e323b774-f852-4dc0-ae51-4761cb4a62f7",
   "metadata": {},
   "source": [
    "### Descricion en SOLIDWORKS"
   ]
  },
  {
   "cell_type": "markdown",
   "id": "b4ec256a-058c-40b6-8340-c673ec4ef9ac",
   "metadata": {},
   "source": [
    "[![DOfbotsingripper](https://img.youtube.com/vi/sa8AUp6V_-I/0.jpg)](https://youtu.be/sa8AUp6V_-I)"
   ]
  },
  {
   "cell_type": "markdown",
   "id": "c41f96a6-253f-44cc-a0ac-9c244667bd73",
   "metadata": {},
   "source": [
    "## Autores\n"
   ]
  },
  {
   "cell_type": "markdown",
   "id": "374b40af-6239-4584-b735-b5f34fbc9c7e",
   "metadata": {},
   "source": [
    "\n",
    "| Iniciales  | Description |\n",
    "| ----------:| ----------- |\n",
    "| **RLA** | Rodriguez Loza Adrian [GitHub profile](https://github.com/AdrianR666) |\n",
    "| **OMLN**  | Oviedo Mendoza Luis Norberto [GitHub profile](https://github.com/NorbertoMecatronica) |\n",
    "\n"
   ]
  },
  {
   "cell_type": "markdown",
   "id": "70e04c65-25c3-4026-84fc-192569079eb2",
   "metadata": {},
   "source": [
    "## Referencias"
   ]
  },
  {
   "cell_type": "markdown",
   "id": "3af4e3a3-e21e-4d73-b19a-9a8ebde8c94b",
   "metadata": {},
   "source": [
    "<a id=\"1\">[1]</a>  “sw_urdf_exporter - ROS Wiki”. Documentation - ROS Wiki. Accedido el 2 de diciembre de 2024. [En línea]. Disponible: http://wiki.ros.org/sw_urdf_exporter\n",
    "\n",
    "\n",
    "<a id=\"2\">[2]</a> “Yahboom”. Yahboom robotics, open-source hardware electronics and sensor kits. Accedido el 2 de diciembre de 2024. [En línea]. Disponible: http://www.yahboom.net/study/Dofbot-Jetson_nano"
   ]
  },
  {
   "cell_type": "code",
   "execution_count": null,
   "id": "aabd5add-b782-4024-ac56-29c9f89efc44",
   "metadata": {},
   "outputs": [],
   "source": []
  }
 ],
 "metadata": {
  "kernelspec": {
   "display_name": "Python 3 (ipykernel)",
   "language": "python",
   "name": "python3"
  },
  "language_info": {
   "codemirror_mode": {
    "name": "ipython",
    "version": 3
   },
   "file_extension": ".py",
   "mimetype": "text/x-python",
   "name": "python",
   "nbconvert_exporter": "python",
   "pygments_lexer": "ipython3",
   "version": "3.10.12"
  }
 },
 "nbformat": 4,
 "nbformat_minor": 5
}
